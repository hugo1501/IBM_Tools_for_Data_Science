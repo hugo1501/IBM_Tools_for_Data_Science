{
 "cells": [
  {
   "cell_type": "markdown",
   "id": "d23c080c-edae-40a8-9ff2-4f396161a77b",
   "metadata": {},
   "source": [
    "# Data Science Tools and Ecosystem"
   ]
  },
  {
   "cell_type": "markdown",
   "id": "97894809-c940-4f97-b5ad-560ba386c18b",
   "metadata": {
    "tags": []
   },
   "source": [
    "  ## In this notebook, Data Science Tools and Ecosystem are summarized."
   ]
  },
  {
   "cell_type": "markdown",
   "id": "5e11682a-2d7c-4c41-9be0-71e85ddd41db",
   "metadata": {},
   "source": [
    "**Objectives:**\n",
    "<ul>\n",
    "  <li>List popular languages for Data Science</li>\n",
    "  <li>Some of the commonly used libraries in Data Scientists</li>\n",
    "  <li>Some integrated development environments (IDE) for Data Science</li>\n",
    "</ul>"
   ]
  },
  {
   "cell_type": "markdown",
   "id": "884b3db9-b40b-40fc-b0ad-286d306b5b36",
   "metadata": {
    "tags": []
   },
   "source": [
    "### Some of the popular languages that Data Scientists use are:\n",
    "1. Python\n",
    "2. R\n",
    "3. Julia"
   ]
  },
  {
   "cell_type": "markdown",
   "id": "ddb19f7c-c9ee-4595-bd9d-59f8b8bc3e7a",
   "metadata": {
    "jp-MarkdownHeadingCollapsed": true,
    "tags": []
   },
   "source": [
    "### Some of the commonly used libraries used by Data Scientists include:\n",
    "1. Pandas\n",
    "2. Numpy\n",
    "3. Matplotlib\n",
    "4. Seaborn"
   ]
  },
  {
   "cell_type": "markdown",
   "id": "4a652653-5cb1-4a16-9c0f-0d0914084640",
   "metadata": {
    "tags": []
   },
   "source": [
    "### Create a markdown cell with a table of Data Science tools:\n",
    "| Data Science Tools |\n",
    "| --- | \n",
    "| RStudio |\n",
    "| IBM Watson Studio |\n",
    "| Jupyter |"
   ]
  },
  {
   "cell_type": "markdown",
   "id": "73d15aa8-0876-4abb-b4ee-14aa1c8a9443",
   "metadata": {},
   "source": [
    "### Below are a few examples of evaluating arithmetic expressions in Python"
   ]
  },
  {
   "cell_type": "code",
   "execution_count": 1,
   "id": "edb08b0c-fa31-4d4c-a52e-ef3569e3f64f",
   "metadata": {},
   "outputs": [
    {
     "data": {
      "text/plain": [
       "17"
      ]
     },
     "execution_count": 1,
     "metadata": {},
     "output_type": "execute_result"
    }
   ],
   "source": [
    "#This a simple arithmetic expression to mutiply then add integers\n",
    "(3*4)+5"
   ]
  },
  {
   "cell_type": "markdown",
   "id": "d21e0583-8ad2-4475-93dc-c4efcd117098",
   "metadata": {},
   "source": [
    "### Exercise 9 - Create a code cell to convert minutes to hours"
   ]
  },
  {
   "cell_type": "code",
   "execution_count": 2,
   "id": "19dc9f14-f311-4918-9432-1d28db244a6c",
   "metadata": {},
   "outputs": [
    {
     "data": {
      "text/plain": [
       "3.3333333333333335"
      ]
     },
     "execution_count": 2,
     "metadata": {},
     "output_type": "execute_result"
    }
   ],
   "source": [
    "#This will convert 200 minutes to hours by diving by 60\n",
    "200/60"
   ]
  },
  {
   "cell_type": "markdown",
   "id": "9ce6cd82-b19b-4fc5-b142-4ab4b9524d26",
   "metadata": {},
   "source": [
    "## Author\n",
    "Hugo"
   ]
  }
 ],
 "metadata": {
  "kernelspec": {
   "display_name": "Python 3 (ipykernel)",
   "language": "python",
   "name": "python3"
  },
  "language_info": {
   "codemirror_mode": {
    "name": "ipython",
    "version": 3
   },
   "file_extension": ".py",
   "mimetype": "text/x-python",
   "name": "python",
   "nbconvert_exporter": "python",
   "pygments_lexer": "ipython3",
   "version": "3.9.13"
  }
 },
 "nbformat": 4,
 "nbformat_minor": 5
}
